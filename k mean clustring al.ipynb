{
 "cells": [
  {
   "cell_type": "code",
   "execution_count": 1,
   "metadata": {},
   "outputs": [
    {
     "name": "stderr",
     "output_type": "stream",
     "text": [
      "c:\\Users\\Fjwu\\AppData\\Local\\Programs\\Python\\Python310\\lib\\site-packages\\sklearn\\cluster\\_kmeans.py:870: FutureWarning: The default value of `n_init` will change from 10 to 'auto' in 1.4. Set the value of `n_init` explicitly to suppress the warning\n",
      "  warnings.warn(\n"
     ]
    },
    {
     "name": "stdout",
     "output_type": "stream",
     "text": [
      "Cluster assignments: \n",
      "[1 0 1 0 0 1 1]\n",
      "Cluster centroids: \n",
      "[[16.         16.66666667]\n",
      " [ 6.125       4.375     ]]\n"
     ]
    }
   ],
   "source": [
    "from sklearn.cluster import KMeans\n",
    "import numpy as np\n",
    "data=np.array(\n",
    "[[5, 6],\n",
    " [15, 16],\n",
    " [6, 4],\n",
    " [16, 16],  \n",
    " [17, 18], \n",
    " [7, 3], \n",
    " [6.5, 4.5], \n",
    "]\n",
    ")\n",
    "\n",
    "result = KMeans(n_clusters=2).fit(data)\n",
    "\n",
    "print(\"Cluster assignments: \")\n",
    "print(result.labels_)\n",
    "print(\"Cluster centroids: \")\n",
    "print(result.cluster_centers_)"
   ]
  }
 ],
 "metadata": {
  "kernelspec": {
   "display_name": "Python 3",
   "language": "python",
   "name": "python3"
  },
  "language_info": {
   "codemirror_mode": {
    "name": "ipython",
    "version": 3
   },
   "file_extension": ".py",
   "mimetype": "text/x-python",
   "name": "python",
   "nbconvert_exporter": "python",
   "pygments_lexer": "ipython3",
   "version": "3.10.7"
  },
  "orig_nbformat": 4
 },
 "nbformat": 4,
 "nbformat_minor": 2
}
